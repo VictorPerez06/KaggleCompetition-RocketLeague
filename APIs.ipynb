{
 "cells": [
  {
   "cell_type": "markdown",
   "metadata": {
    "id": "kPyGlTFTe2mJ"
   },
   "source": [
    "# From models to APIs\n",
    "\n",
    "**Machine Learning for Production**\n",
    "Master X-ITE\n",
    "\n",
    "Author: Jérémie Jakubowicz, Charles Cazals"
   ]
  },
  {
   "cell_type": "markdown",
   "metadata": {
    "id": "0yiqxCEsws5L"
   },
   "source": [
    "### GET Requests\n"
   ]
  },
  {
   "cell_type": "markdown",
   "metadata": {
    "id": "bYx-rDbsy6vG"
   },
   "source": [
    "We'll see later, `POST`, `PUT`, `PATCH` and `DELETE` requests result in modifying the state, *i.e.*, the data. `GET` requests aim at querying the data."
   ]
  },
  {
   "cell_type": "markdown",
   "metadata": {
    "id": "4JJu6ngiBYyF"
   },
   "source": [
    "Let's use the `requests` Python library"
   ]
  },
  {
   "cell_type": "code",
   "execution_count": 7,
   "metadata": {
    "id": "URkFzaHfB2u0"
   },
   "outputs": [],
   "source": [
    "import requests"
   ]
  },
  {
   "cell_type": "code",
   "execution_count": 8,
   "metadata": {
    "id": "2x9WiFokB4wf"
   },
   "outputs": [],
   "source": [
    "import requests  # Import the requests library\n",
    "\n",
    "# Query URL\n",
    "url = 'https://random-data-api.com/api/users/random_user'\n",
    "\n",
    "response = requests.get(url)  # Make a GET request to the URL"
   ]
  },
  {
   "cell_type": "markdown",
   "metadata": {
    "id": "ufX7mvG1ELTP"
   },
   "source": [
    "<img src='https://www.dataquest.io/wp-content/uploads/2019/09/api-request.svg'/>"
   ]
  },
  {
   "cell_type": "code",
   "execution_count": 9,
   "metadata": {
    "colab": {
     "base_uri": "https://localhost:8080/"
    },
    "id": "KILZv0jgEKK1",
    "outputId": "6c526f87-6b67-48c1-d605-cf3f8a0bdb3a"
   },
   "outputs": [
    {
     "name": "stdout",
     "output_type": "stream",
     "text": [
      "Request returned 200 : 'OK'\n",
      "{\"id\":8861,\"uid\":\"9501e491-26ce-40bd-bbe6-690d03a2663b\",\"password\":\"fc6SqPGsTy\",\"first_name\":\"Wiley\",\"last_name\":\"Waelchi\",\"username\":\"wiley.waelchi\",\"email\":\"wiley.waelchi@email.com\",\"avatar\":\"https://robohash.org/molestiaeautipsam.png?size=300x300\\u0026set=set1\",\"gender\":\"Genderfluid\",\"phone_number\":\"+385 448-814-3035 x7123\",\"social_insurance_number\":\"442983607\",\"date_of_birth\":\"1976-09-13\",\"employment\":{\"title\":\"Product Construction Architect\",\"key_skill\":\"Teamwork\"},\"address\":{\"city\":\"Lake Rogelio\",\"street_name\":\"Loma Brook\",\"street_address\":\"5800 Dann Locks\",\"zip_code\":\"47395\",\"state\":\"Mississippi\",\"country\":\"United States\",\"coordinates\":{\"lat\":73.55134229675383,\"lng\":-161.76753476300345}},\"credit_card\":{\"cc_number\":\"4502323741075\"},\"subscription\":{\"plan\":\"Basic\",\"status\":\"Idle\",\"payment_method\":\"Visa checkout\",\"term\":\"Annual\"}}\n"
     ]
    }
   ],
   "source": [
    "# Print response code (and associated text)\n",
    "print(f\"Request returned {response.status_code} : '{response.reason}'\")\n",
    "# Print response data\n",
    "print(response.text)"
   ]
  },
  {
   "cell_type": "markdown",
   "metadata": {
    "id": "YhiC-hNihAf4"
   },
   "source": [
    "We see that the response code is 200. It means that the request went well. We'll get back to response code in the next section."
   ]
  },
  {
   "cell_type": "markdown",
   "metadata": {
    "id": "-QckJX4KHtvp"
   },
   "source": [
    "Let's focus on response data now. The trained eye recognizes JavaScript Object Notation [JSON](https://fr.wikipedia.org/wiki/JavaScript_Object_Notation) format for the response data. Pretty printing libraries are helpful to improve response readability"
   ]
  },
  {
   "cell_type": "code",
   "execution_count": 10,
   "metadata": {
    "colab": {
     "base_uri": "https://localhost:8080/"
    },
    "id": "l1cIhx-eHkkO",
    "outputId": "50600d62-b56e-4f0e-9d98-1a9c881a8bb8"
   },
   "outputs": [
    {
     "name": "stdout",
     "output_type": "stream",
     "text": [
      "{'address': {'city': 'Lake Rogelio',\n",
      "             'coordinates': {'lat': 73.55134229675383,\n",
      "                             'lng': -161.76753476300345},\n",
      "             'country': 'United States',\n",
      "             'state': 'Mississippi',\n",
      "             'street_address': '5800 Dann Locks',\n",
      "             'street_name': 'Loma Brook',\n",
      "             'zip_code': '47395'},\n",
      " 'avatar': 'https://robohash.org/molestiaeautipsam.png?size=300x300&set=set1',\n",
      " 'credit_card': {'cc_number': '4502323741075'},\n",
      " 'date_of_birth': '1976-09-13',\n",
      " 'email': 'wiley.waelchi@email.com',\n",
      " 'employment': {'key_skill': 'Teamwork',\n",
      "                'title': 'Product Construction Architect'},\n",
      " 'first_name': 'Wiley',\n",
      " 'gender': 'Genderfluid',\n",
      " 'id': 8861,\n",
      " 'last_name': 'Waelchi',\n",
      " 'password': 'fc6SqPGsTy',\n",
      " 'phone_number': '+385 448-814-3035 x7123',\n",
      " 'social_insurance_number': '442983607',\n",
      " 'subscription': {'payment_method': 'Visa checkout',\n",
      "                  'plan': 'Basic',\n",
      "                  'status': 'Idle',\n",
      "                  'term': 'Annual'},\n",
      " 'uid': '9501e491-26ce-40bd-bbe6-690d03a2663b',\n",
      " 'username': 'wiley.waelchi'}\n"
     ]
    }
   ],
   "source": [
    "payload = response.json()  # Parse `response.text` into JSON\n",
    "\n",
    "from pprint import pprint\n",
    "pprint(payload)"
   ]
  },
  {
   "cell_type": "markdown",
   "metadata": {
    "id": "xaEzR4k0huLL"
   },
   "source": [
    "### HTTP response codes"
   ]
  },
  {
   "cell_type": "markdown",
   "metadata": {
    "id": "C6sfOcGkh0F_"
   },
   "source": [
    "The following holds for any HTTP request, not only for GET request.\n",
    "\n",
    "The codes are numbers between 100 and 599 that are sorted with the following meanings:\n",
    "- **100-199: informational response** – the request was received, continuing process\n",
    "- **200-299: successful** – the request was successfully received, understood, and accepted\n",
    "- **300-399: redirection** – further action needs to be taken in order to complete the request\n",
    "- **400-499: client error** – the request contains bad syntax or cannot be fulfilled\n",
    "- **500-599: server error** – the server failed to fulfil an apparently valid request"
   ]
  },
  {
   "cell_type": "markdown",
   "metadata": {
    "id": "SBD0IsInjP-A"
   },
   "source": [
    "Here are some common examples:\n",
    "- 100-199:\n",
    "  + **100 Continue**\n",
    "    The server has received the request headers and the client should proceed to send the request body \n",
    "  + **101 Switching Protocols**\n",
    "    The requester has asked the server to switch protocols and the server has agreed to do so\n",
    "- 200-299:\n",
    "  + **200 OK**\n",
    "    Standard response for successful HTTP requests\n",
    "  + **201 Created**\n",
    "    The request has been fulfilled, resulting in the creation of a new resource\n",
    "  + **202 Accepted**\n",
    "    The request has been accepted for processing, but the processing has not been completed\n",
    "- 300-399:\n",
    "  + **302 Found**\n",
    "    Tells the client to look at (browse to) another URL\n",
    "  + **303 See Other**\n",
    "    The response to the request can be found under another URI using the GET method. When received in response to a POST (or PUT/DELETE), the client should presume that the server has received the data and should issue a new GET request to the given URI\n",
    "  + **304 Not Modified**\n",
    "    Indicates that the resource has not been modified since the version specified by the request headers If-Modified-Since or If-None-Match. In such case, there is no need to retransmit the resource since the client still has a previously-downloaded copy\n",
    "  + **305 Use Proxy**\n",
    "    The requested resource is available only through a proxy, the address for which is provided in the response\n",
    "- 400-499\n",
    "  + **400 Bad Request**\n",
    "    The server cannot or will not process the request due to an apparent client error\n",
    "  + **401 Unauthorized**\n",
    "    Similar to 403 Forbidden, but specifically for use when authentication is required and has failed or has not yet been provided\n",
    "  + **403 Forbidden**\n",
    "    The request contained valid data and was understood by the server, but the server is refusing action\n",
    "  + **404 Not Found**\n",
    "    The most famous error code. The requested resource could not be found but may be available in the future\n",
    "- 500-599\n",
    "  + **500 Internal Server Error**\n",
    "    A generic error message, given when an unexpected condition was encountered and no more specific message is suitable\n",
    "  + **501 Not Implemented**\n",
    "    The server either does not recognize the request method, or it lacks the ability to fulfil the request\n",
    "  + **503 Service Unavailable**\n",
    "    The server cannot handle the request"
   ]
  },
  {
   "cell_type": "markdown",
   "metadata": {
    "id": "zi2spNjZDLvo"
   },
   "source": [
    "### Requests parameters"
   ]
  },
  {
   "cell_type": "markdown",
   "metadata": {
    "id": "HJPJvPPiIw2s"
   },
   "source": [
    "HTTP requests can take parameters, either directly in the url thanks to the '?param1=value1&param2=value2&...' syntax, or using the `params` keyword with `requests.get`. Let's start with the '?param=value' inside the url syntax"
   ]
  },
  {
   "cell_type": "code",
   "execution_count": 11,
   "metadata": {
    "colab": {
     "base_uri": "https://localhost:8080/"
    },
    "id": "cOHWxP9gtZPr",
    "outputId": "5ae521e1-ac63-4d25-9b67-6991f4ace766"
   },
   "outputs": [
    {
     "name": "stdout",
     "output_type": "stream",
     "text": [
      "<?xml version=\"1.0\" encoding=\"UTF-8\"?>\n",
      "<objects type=\"array\">\n",
      "  <object>\n",
      "    <id type=\"integer\">2255</id>\n",
      "    <uid>782b1548-4cd6-433f-b37b-22361b61d28d</uid>\n",
      "    <password>FcG6De9tXw</password>\n",
      "    <first-name>Fannie</first-name>\n",
      "    <last-name>Emard</last-name>\n",
      "    <username>fannie.emard</username>\n",
      "    <email>fannie.emard@email.com</email>\n",
      "    <avatar>https://robohash.org/repellendusimpeditperspiciatis.png?size=300x300&amp;set=set1</avatar>\n",
      "    <gender>Female</gender>\n",
      "    <phone-number>+963 575.261.3675 x06238</phone-number>\n",
      "    <social-insurance-number>732928650</social-insurance-number>\n",
      "    <date-of-birth type=\"date\">1996-08-10</date-of-birth>\n",
      "    <employment>\n",
      "      <title>Real-Estate Orchestrator</title>\n",
      "      <key-skill>Self-motivated</key-skill>\n",
      "    </employment>\n",
      "    <address>\n",
      "      <city>Gleichnerstad</city>\n",
      "      <street-name>Little Ports</street-name>\n",
      "      <street-address>15269 Kerluke Course</street-address>\n",
      "      <zip-code>92492</zip-code>\n",
      "      <state>Hawaii</state>\n",
      "      <country>United States</country>\n",
      "      <coordinates>\n",
      "        <lat type=\"float\">82.99974298549691</lat>\n",
      "        <lng type=\"float\">-133.36225790590936</lng>\n",
      "      </coordinates>\n",
      "    </address>\n",
      "    <credit-card>\n",
      "      <cc-number>6771-8912-9949-0124</cc-number>\n",
      "    </credit-card>\n",
      "    <subscription>\n",
      "      <plan>Basic</plan>\n",
      "      <status>Idle</status>\n",
      "      <payment-method>Visa checkout</payment-method>\n",
      "      <term>Monthly</term>\n",
      "    </subscription>\n",
      "  </object>\n",
      "  <object>\n",
      "    <id type=\"integer\">8716</id>\n",
      "    <uid>b717ffbe-cbe6-436d-b514-35f7e46e3b0c</uid>\n",
      "    <password>kMWjBVzACh</password>\n",
      "    <first-name>Katrice</first-name>\n",
      "    <last-name>Barton</last-name>\n",
      "    <username>katrice.barton</username>\n",
      "    <email>katrice.barton@email.com</email>\n",
      "    <avatar>https://robohash.org/occaecatiquiaet.png?size=300x300&amp;set=set1</avatar>\n",
      "    <gender>Non-binary</gender>\n",
      "    <phone-number>+245 1-978-964-6441 x6251</phone-number>\n",
      "    <social-insurance-number>928504224</social-insurance-number>\n",
      "    <date-of-birth type=\"date\">1974-12-12</date-of-birth>\n",
      "    <employment>\n",
      "      <title>Forward Specialist</title>\n",
      "      <key-skill>Problem solving</key-skill>\n",
      "    </employment>\n",
      "    <address>\n",
      "      <city>Kemmerfort</city>\n",
      "      <street-name>Murray Trail</street-name>\n",
      "      <street-address>28241 Crystle Gateway</street-address>\n",
      "      <zip-code>75633</zip-code>\n",
      "      <state>Michigan</state>\n",
      "      <country>United States</country>\n",
      "      <coordinates>\n",
      "        <lat type=\"float\">13.860700549187854</lat>\n",
      "        <lng type=\"float\">147.85785066157177</lng>\n",
      "      </coordinates>\n",
      "    </address>\n",
      "    <credit-card>\n",
      "      <cc-number>4583015145056</cc-number>\n",
      "    </credit-card>\n",
      "    <subscription>\n",
      "      <plan>Premium</plan>\n",
      "      <status>Active</status>\n",
      "      <payment-method>Money transfer</payment-method>\n",
      "      <term>Payment in advance</term>\n",
      "    </subscription>\n",
      "  </object>\n",
      "</objects>\n",
      "\n"
     ]
    }
   ],
   "source": [
    "url = 'https://random-data-api.com/api/users/random_user?size=2&is_xml=true'\n",
    "response = requests.get(url)\n",
    "if response.ok:\n",
    "    print(response.text)"
   ]
  },
  {
   "cell_type": "markdown",
   "metadata": {
    "id": "XSqmr0y3tiW6"
   },
   "source": [
    "Now with the `params` keyword"
   ]
  },
  {
   "cell_type": "code",
   "execution_count": 12,
   "metadata": {
    "colab": {
     "base_uri": "https://localhost:8080/"
    },
    "id": "z8SRHykKzQRK",
    "outputId": "8421b0ef-0c2d-4256-df5f-bb1443507a5a"
   },
   "outputs": [
    {
     "name": "stdout",
     "output_type": "stream",
     "text": [
      "<?xml version=\"1.0\" encoding=\"UTF-8\"?>\n",
      "<objects type=\"array\">\n",
      "  <object>\n",
      "    <id type=\"integer\">4046</id>\n",
      "    <uid>377db879-c512-49b8-ba2f-1b39484ba7ae</uid>\n",
      "    <password>t1rymCbQos</password>\n",
      "    <first-name>Carlton</first-name>\n",
      "    <last-name>Cole</last-name>\n",
      "    <username>carlton.cole</username>\n",
      "    <email>carlton.cole@email.com</email>\n",
      "    <avatar>https://robohash.org/magnametcorporis.png?size=300x300&amp;set=set1</avatar>\n",
      "    <gender>Bigender</gender>\n",
      "    <phone-number>+688 706.284.2062 x567</phone-number>\n",
      "    <social-insurance-number>309936920</social-insurance-number>\n",
      "    <date-of-birth type=\"date\">1989-03-02</date-of-birth>\n",
      "    <employment>\n",
      "      <title>Lead Assistant</title>\n",
      "      <key-skill>Leadership</key-skill>\n",
      "    </employment>\n",
      "    <address>\n",
      "      <city>West Rosellestad</city>\n",
      "      <street-name>Maxwell Forges</street-name>\n",
      "      <street-address>8017 Tyron Village</street-address>\n",
      "      <zip-code>68849</zip-code>\n",
      "      <state>Indiana</state>\n",
      "      <country>United States</country>\n",
      "      <coordinates>\n",
      "        <lat type=\"float\">-20.043076974357575</lat>\n",
      "        <lng type=\"float\">-164.06596751006674</lng>\n",
      "      </coordinates>\n",
      "    </address>\n",
      "    <credit-card>\n",
      "      <cc-number>5291-2596-7659-0788</cc-number>\n",
      "    </credit-card>\n",
      "    <subscription>\n",
      "      <plan>Premium</plan>\n",
      "      <status>Active</status>\n",
      "      <payment-method>Credit card</payment-method>\n",
      "      <term>Payment in advance</term>\n",
      "    </subscription>\n",
      "  </object>\n",
      "  <object>\n",
      "    <id type=\"integer\">2088</id>\n",
      "    <uid>15e68e9f-3fe8-4d47-8601-594da59b7ab1</uid>\n",
      "    <password>Gw7EySuVRO</password>\n",
      "    <first-name>Jermaine</first-name>\n",
      "    <last-name>O'Connell</last-name>\n",
      "    <username>jermaine.o'connell</username>\n",
      "    <email>jermaine.o'connell@email.com</email>\n",
      "    <avatar>https://robohash.org/velitplaceatreprehenderit.png?size=300x300&amp;set=set1</avatar>\n",
      "    <gender>Male</gender>\n",
      "    <phone-number>+691 275.312.4423 x6873</phone-number>\n",
      "    <social-insurance-number>485702310</social-insurance-number>\n",
      "    <date-of-birth type=\"date\">1993-03-07</date-of-birth>\n",
      "    <employment>\n",
      "      <title>Legacy Marketing Coordinator</title>\n",
      "      <key-skill>Communication</key-skill>\n",
      "    </employment>\n",
      "    <address>\n",
      "      <city>Kirlinfort</city>\n",
      "      <street-name>Olympia Drive</street-name>\n",
      "      <street-address>279 Marlin Drive</street-address>\n",
      "      <zip-code>40209</zip-code>\n",
      "      <state>Missouri</state>\n",
      "      <country>United States</country>\n",
      "      <coordinates>\n",
      "        <lat type=\"float\">19.440825037360483</lat>\n",
      "        <lng type=\"float\">130.21752378825698</lng>\n",
      "      </coordinates>\n",
      "    </address>\n",
      "    <credit-card>\n",
      "      <cc-number>5235-3689-7184-0977</cc-number>\n",
      "    </credit-card>\n",
      "    <subscription>\n",
      "      <plan>Platinum</plan>\n",
      "      <status>Active</status>\n",
      "      <payment-method>Visa checkout</payment-method>\n",
      "      <term>Payment in advance</term>\n",
      "    </subscription>\n",
      "  </object>\n",
      "</objects>\n",
      "\n"
     ]
    }
   ],
   "source": [
    "parameters = {'size': 2, 'is_xml': 'true'}\n",
    "url = 'https://random-data-api.com/api/users/random_user'\n",
    "response = requests.get(url, params=parameters)\n",
    "if response.ok:\n",
    "  print(response.text)"
   ]
  },
  {
   "cell_type": "markdown",
   "metadata": {
    "id": "MwOuZd5a0OGB"
   },
   "source": [
    "Actually, behind the scenes, `requests` is forming up the former url:"
   ]
  },
  {
   "cell_type": "code",
   "execution_count": 13,
   "metadata": {
    "colab": {
     "base_uri": "https://localhost:8080/",
     "height": 36
    },
    "id": "EgNkeIzeuInT",
    "outputId": "b3d525c7-3091-4e36-961e-667d98b55c8b"
   },
   "outputs": [
    {
     "data": {
      "text/plain": [
       "'https://random-data-api.com/api/users/random_user?size=2&is_xml=true'"
      ]
     },
     "execution_count": 13,
     "metadata": {},
     "output_type": "execute_result"
    }
   ],
   "source": [
    "response.url"
   ]
  },
  {
   "cell_type": "markdown",
   "metadata": {
    "id": "AANPRIuRuKXo"
   },
   "source": [
    "### `POST`, `PUT`, `PATCH` and `DELETE` requests"
   ]
  },
  {
   "cell_type": "markdown",
   "metadata": {
    "id": "749TAHBvxApf"
   },
   "source": [
    "The `requests` library can be used to send `POST` requests too, thanks to the `requests.post` method"
   ]
  },
  {
   "cell_type": "code",
   "execution_count": 14,
   "metadata": {
    "colab": {
     "base_uri": "https://localhost:8080/"
    },
    "id": "T2dE_raNumIX",
    "outputId": "c9ff882b-aebc-47f7-8624-d31042cb4b54"
   },
   "outputs": [
    {
     "name": "stdout",
     "output_type": "stream",
     "text": [
      "201\n"
     ]
    }
   ],
   "source": [
    "url = \"https://jsonplaceholder.typicode.com/posts\"\n",
    "\n",
    "headers = {\"Content-Type\": \"application/json\"}\n",
    "\n",
    "data = \"\"\"\n",
    "{\n",
    "    \"title\": \"foo\",\n",
    "    \"body\": \"bar\",\n",
    "    \"user_id\": 10\n",
    "}\n",
    "\"\"\"\n",
    "\n",
    "response = requests.post(url, headers=headers, data=data)\n",
    "print(response.status_code)"
   ]
  },
  {
   "cell_type": "code",
   "execution_count": 15,
   "metadata": {},
   "outputs": [
    {
     "name": "stdout",
     "output_type": "stream",
     "text": [
      "{\n",
      "  \"title\": \"foo\",\n",
      "  \"body\": \"bar\",\n",
      "  \"user_id\": 10,\n",
      "  \"id\": 101\n",
      "}\n"
     ]
    }
   ],
   "source": [
    "print(response.text)"
   ]
  },
  {
   "cell_type": "markdown",
   "metadata": {
    "id": "fvTBCeE_wW3r"
   },
   "source": [
    "Likewise, `requests` library can be used to send `PUT`, `PATCH` and `DELETE` requests"
   ]
  },
  {
   "cell_type": "code",
   "execution_count": 16,
   "metadata": {
    "colab": {
     "base_uri": "https://localhost:8080/"
    },
    "id": "Wp-qMu6kyi8R",
    "outputId": "3ae09138-6452-4298-c810-bd30c7c6f93b"
   },
   "outputs": [
    {
     "name": "stdout",
     "output_type": "stream",
     "text": [
      "200\n"
     ]
    }
   ],
   "source": [
    "url = \"https://jsonplaceholder.typicode.com/posts/1\"\n",
    "data = \"\"\"\n",
    "{\n",
    "    \"title\": \"foo\",\n",
    "    \"body\": \"new body\",\n",
    "    \"user_id\": 10\n",
    "}\n",
    "\"\"\"\n",
    "\n",
    "response = requests.put(url, headers=headers, data=data)\n",
    "print(response.status_code)"
   ]
  },
  {
   "cell_type": "code",
   "execution_count": 17,
   "metadata": {},
   "outputs": [
    {
     "name": "stdout",
     "output_type": "stream",
     "text": [
      "{\n",
      "  \"title\": \"foo\",\n",
      "  \"body\": \"new body\",\n",
      "  \"user_id\": 10,\n",
      "  \"id\": 1\n",
      "}\n"
     ]
    }
   ],
   "source": [
    "print(response.text)"
   ]
  },
  {
   "cell_type": "code",
   "execution_count": 18,
   "metadata": {
    "colab": {
     "base_uri": "https://localhost:8080/"
    },
    "id": "kWPNsYB5ysJZ",
    "outputId": "251488a0-04b3-4ebc-be4f-2a6497d94dd4"
   },
   "outputs": [
    {
     "name": "stdout",
     "output_type": "stream",
     "text": [
      "200\n"
     ]
    }
   ],
   "source": [
    "url = \"https://jsonplaceholder.typicode.com/posts/1\"\n",
    "data = \"\"\"\n",
    "{\n",
    "    \"title\": \"new_title\"\n",
    "}\n",
    "\"\"\"\n",
    "\n",
    "response = requests.patch(url, headers=headers, data=data)\n",
    "print(response.status_code)"
   ]
  },
  {
   "cell_type": "code",
   "execution_count": 13,
   "metadata": {},
   "outputs": [
    {
     "name": "stdout",
     "output_type": "stream",
     "text": [
      "{\n",
      "  \"userId\": 1,\n",
      "  \"id\": 1,\n",
      "  \"title\": \"new_title\",\n",
      "  \"body\": \"quia et suscipit\\nsuscipit recusandae consequuntur expedita et cum\\nreprehenderit molestiae ut ut quas totam\\nnostrum rerum est autem sunt rem eveniet architecto\"\n",
      "}\n"
     ]
    }
   ],
   "source": [
    "print(response.text)"
   ]
  },
  {
   "cell_type": "code",
   "execution_count": 14,
   "metadata": {
    "colab": {
     "base_uri": "https://localhost:8080/"
    },
    "id": "DAI7hhbvy976",
    "outputId": "b3404b05-5836-4095-cdfa-294c1950fb40"
   },
   "outputs": [
    {
     "name": "stdout",
     "output_type": "stream",
     "text": [
      "200\n"
     ]
    }
   ],
   "source": [
    "url = \"https://jsonplaceholder.typicode.com/posts/1\"\n",
    "\n",
    "response = requests.delete(url, headers=headers)\n",
    "print(response.status_code)"
   ]
  },
  {
   "cell_type": "code",
   "execution_count": 15,
   "metadata": {},
   "outputs": [
    {
     "name": "stdout",
     "output_type": "stream",
     "text": [
      "{}\n"
     ]
    }
   ],
   "source": [
    "print(response.text)"
   ]
  },
  {
   "cell_type": "markdown",
   "metadata": {
    "id": "1em1y9MvzVR7"
   },
   "source": [
    "## Using APIs"
   ]
  },
  {
   "cell_type": "markdown",
   "metadata": {
    "id": "eisxFRf30Pbl"
   },
   "source": [
    "We can use APIs to interact with data sources to collect potentially complex data, or to perform actions on remote servers. Since it is not directly linked with ML in production, we will be brief here. But let's give an example regarding *data scraping*"
   ]
  },
  {
   "cell_type": "code",
   "execution_count": 21,
   "metadata": {
    "colab": {
     "base_uri": "https://localhost:8080/"
    },
    "id": "cfmwZE1G0ygK",
    "outputId": "96253efb-ea12-418a-b859-ae1589897392"
   },
   "outputs": [
    {
     "name": "stdout",
     "output_type": "stream",
     "text": [
      "{'class': 'dataset',\n",
      " 'dimension': {'geo': {'category': {'index': {'DE': 0, 'NL': 1},\n",
      "                                    'label': {'DE': 'Germany (until 1990 '\n",
      "                                                    'former territory of the '\n",
      "                                                    'FRG)',\n",
      "                                              'NL': 'Netherlands'}},\n",
      "                       'label': 'geo'},\n",
      "               'na_item': {'category': {'index': {'B1GQ': 0, 'D21': 1},\n",
      "                                        'label': {'B1GQ': 'Gross domestic '\n",
      "                                                          'product at market '\n",
      "                                                          'prices',\n",
      "                                                  'D21': 'Taxes on products'}},\n",
      "                           'label': 'na_item'},\n",
      "               'time': {'category': {'index': {'2010': 0, '2011': 1, '2012': 2},\n",
      "                                     'label': {'2010': '2010',\n",
      "                                               '2011': '2011',\n",
      "                                               '2012': '2012'}},\n",
      "                        'label': 'time'},\n",
      "               'unit': {'category': {'index': {'CLV05_MEUR': 0},\n",
      "                                     'label': {'CLV05_MEUR': 'Chain linked '\n",
      "                                                             'volumes (2005), '\n",
      "                                                             'million euro'}},\n",
      "                        'label': 'unit'}},\n",
      " 'extension': {'datasetId': 'nama_10_gdp',\n",
      "               'description': None,\n",
      "               'endOfLife': 'The WDDS service will still be operational until '\n",
      "                            '31 of January 2023 after which it will be '\n",
      "                            'decommissioned. We strongly urge users to migrate '\n",
      "                            'to the new service. This link can be useful for '\n",
      "                            'the migration: '\n",
      "                            'https://wikis.ec.europa.eu/display/EUROSTATHELP/API+Statistics+-+migrating+from+JSON+web+service+to+API+Statistics',\n",
      "               'lang': 'EN',\n",
      "               'subTitle': None},\n",
      " 'href': 'http://ec.europa.eu/eurostat/wdds/rest/data/v2.1/json/en/nama_10_gdp?precision=1&unit=CLV05_MEUR&geo=DE&geo=NL&time=2010&time=2011&time=2012&na_item=B1GQ&na_item=D21',\n",
      " 'id': ['unit', 'na_item', 'geo', 'time'],\n",
      " 'label': 'GDP and main components (output, expenditure and income)',\n",
      " 'size': [1, 2, 2, 3],\n",
      " 'source': 'Eurostat',\n",
      " 'updated': '2022-12-07',\n",
      " 'value': {'0': 2426563.7,\n",
      "           '1': 2521811.0,\n",
      "           '10': 59852.5,\n",
      "           '11': 57924.1,\n",
      "           '2': 2532364.7,\n",
      "           '3': 589946.6,\n",
      "           '4': 599097.8,\n",
      "           '5': 592925.0,\n",
      "           '6': 228301.5,\n",
      "           '7': 237271.4,\n",
      "           '8': 236319.0,\n",
      "           '9': 60631.6},\n",
      " 'version': '2.0'}\n"
     ]
    }
   ],
   "source": [
    "# Query URL\n",
    "url = 'http://ec.europa.eu/eurostat/wdds/rest/data/v2.1/json/en/nama_10_gdp' \n",
    "\n",
    "params = {\n",
    "  'precision':1,\n",
    "  'unit': 'CLV05_MEUR',  # Unit: CLV (2005) Million EUR\n",
    "  'geo': ['DE', 'NL'],  # Country: Germany and Netherlands\n",
    "  'time': ['2010', '2011', '2012'],  # Years: 2010, 2011, 2012\n",
    "  'na_item': ['B1GQ', 'D21']  # GDP (market prices) & taxes on products\n",
    "} \n",
    "\n",
    "reponse = requests.get(url, params=params)\n",
    "\n",
    "pprint(reponse.json())"
   ]
  },
  {
   "cell_type": "markdown",
   "metadata": {
    "id": "196ZQCOI3sz1"
   },
   "source": [
    "One can see that there is a little bit of data transformation to perform to exploit these data and we will stop here, in order to get back to our topic of interest"
   ]
  },
  {
   "cell_type": "markdown",
   "metadata": {
    "id": "FAT_inXEz3Kd"
   },
   "source": [
    "All that is very nice, how can it be useful for us to put machine learning models in production?\n",
    "\n",
    "Well precisely, we are going to deploy our models through REST APIs. As model providers, we won't be the one *using* the APIs, we will be the one *creating* the APIs. Our users will query these models, sending their data as `POST` requests parameters and our APIs will send back the corresponding prediction"
   ]
  },
  {
   "cell_type": "markdown",
   "metadata": {
    "id": "U5pnDyKb_CsV"
   },
   "source": [
    "## Creating APIs"
   ]
  },
  {
   "cell_type": "markdown",
   "metadata": {
    "id": "6OZoeEzNDLfM"
   },
   "source": [
    "## Creating a simple API"
   ]
  },
  {
   "cell_type": "markdown",
   "metadata": {},
   "source": [
    "The following cells assume you are running the Flask application, provided in GitHub."
   ]
  },
  {
   "cell_type": "markdown",
   "metadata": {},
   "source": [
    "From your terminal, in the `basic_flask` directory:\n",
    "1. activate the virtual environment\n",
    "    ``` bash\n",
    "    source ./venv/bin/activate\n",
    "    ```\n",
    "2. Run your Flask application (`ctrl^` + `C`  to stop)\n",
    "    ``` bash\n",
    "    FLASK_APP=\"./app/app.py\" flask run --host=\"0.0.0.0\"\n",
    "    ```"
   ]
  },
  {
   "cell_type": "markdown",
   "metadata": {},
   "source": [
    "### 0. Random "
   ]
  },
  {
   "cell_type": "code",
   "execution_count": 22,
   "metadata": {},
   "outputs": [
    {
     "name": "stdout",
     "output_type": "stream",
     "text": [
      "<!doctype html>\r\n",
      "<html lang=en>\r\n",
      "<title>404 Not Found</title>\r\n",
      "<h1>Not Found</h1>\r\n",
      "<p>The requested URL was not found on the server. If you entered the URL manually please check your spelling and try again.</p>\r\n"
     ]
    }
   ],
   "source": [
    "# cURL\n",
    "!curl \"http://127.0.0.1:5000/predict\""
   ]
  },
  {
   "cell_type": "code",
   "execution_count": 3,
   "metadata": {},
   "outputs": [
    {
     "name": "stdout",
     "output_type": "stream",
     "text": [
      "<!doctype html>\n",
      "<html lang=en>\n",
      "<title>404 Not Found</title>\n",
      "<h1>Not Found</h1>\n",
      "<p>The requested URL was not found on the server. If you entered the URL manually please check your spelling and try again.</p>\n",
      "\n"
     ]
    }
   ],
   "source": [
    "# Python requests\n",
    "response = requests.get('http://127.0.0.1:5000/predict')\n",
    "print(response.text)"
   ]
  },
  {
   "cell_type": "markdown",
   "metadata": {},
   "source": [
    "### 1.0 Univariate threshold"
   ]
  },
  {
   "cell_type": "code",
   "execution_count": 4,
   "metadata": {},
   "outputs": [
    {
     "name": "stdout",
     "output_type": "stream",
     "text": [
      "<!doctype html>\r\n",
      "<html lang=en>\r\n",
      "<title>404 Not Found</title>\r\n",
      "<h1>Not Found</h1>\r\n",
      "<p>The requested URL was not found on the server. If you entered the URL manually please check your spelling and try again.</p>\r\n"
     ]
    }
   ],
   "source": [
    "# cURL\n",
    "!curl -X GET \"http://127.0.0.1:5000/predict?debt_ratio=0.1\""
   ]
  },
  {
   "cell_type": "code",
   "execution_count": 5,
   "metadata": {},
   "outputs": [
    {
     "name": "stdout",
     "output_type": "stream",
     "text": [
      "<!doctype html>\r\n",
      "<html lang=en>\r\n",
      "<title>404 Not Found</title>\r\n",
      "<h1>Not Found</h1>\r\n",
      "<p>The requested URL was not found on the server. If you entered the URL manually please check your spelling and try again.</p>\r\n"
     ]
    }
   ],
   "source": [
    "# cURL, different syntax\n",
    "!curl -G http://127.0.0.1:5000/predict -d \"debt_ratio=0.4\""
   ]
  },
  {
   "cell_type": "code",
   "execution_count": 40,
   "metadata": {},
   "outputs": [
    {
     "name": "stdout",
     "output_type": "stream",
     "text": [
      "{\"score\":0.4}\n",
      "\n"
     ]
    }
   ],
   "source": [
    "# Python requests\n",
    "response = requests.get('http://127.0.0.1:5000/predict', params={\"debt_ratio\": 0.4})\n",
    "print(response.text)"
   ]
  },
  {
   "cell_type": "markdown",
   "metadata": {},
   "source": [
    "### 1.1 Univariate threshold - batch"
   ]
  },
  {
   "cell_type": "code",
   "execution_count": 27,
   "metadata": {},
   "outputs": [
    {
     "name": "stdout",
     "output_type": "stream",
     "text": [
      "{\"scores\":[{\"id\":\"1\",\"score\":0.6},{\"id\":\"2\",\"score\":0.1}]}\r\n"
     ]
    }
   ],
   "source": [
    "# cURL\n",
    "!curl -X POST -H \"Content-type: application/json\" -d '[{\"id\": \"1\", \"debt_ratio\": 0.6}, {\"id\": \"2\", \"debt_ratio\": 0.1}]' http://127.0.0.1:5000/predict"
   ]
  },
  {
   "cell_type": "code",
   "execution_count": 46,
   "metadata": {},
   "outputs": [
    {
     "name": "stdout",
     "output_type": "stream",
     "text": [
      "{\"scores\":[{\"id\":\"1\",\"score\":0.6},{\"id\":\"2\",\"score\":0.1}]}\n",
      "\n"
     ]
    }
   ],
   "source": [
    "# Python requests - using 'json' param\n",
    "response = requests.post(\n",
    "    'http://127.0.0.1:5000/predict',\n",
    "    json=[{\"id\": \"1\", \"debt_ratio\": 0.6}, {\"id\": \"2\", \"debt_ratio\": 0.1}],\n",
    ")\n",
    "print(response.text)"
   ]
  },
  {
   "cell_type": "code",
   "execution_count": 26,
   "metadata": {},
   "outputs": [
    {
     "name": "stdout",
     "output_type": "stream",
     "text": [
      "{\"scores\":[{\"id\":\"001\",\"score\":0.6},{\"id\":\"002\",\"score\":0.1}]}\n",
      "\n"
     ]
    }
   ],
   "source": [
    "# Python requests - using 'data' param\n",
    "response = requests.post(\n",
    "    'http://127.0.0.1:5000/predict',\n",
    "    data='[{\"id\": \"001\", \"debt_ratio\": 0.6}, {\"id\": \"002\", \"debt_ratio\": 0.1}]', # 'data' accepts string object\n",
    "    headers={'content-type': 'application/json'} # but requires content-type specifications\n",
    ")\n",
    "print(response.text)"
   ]
  },
  {
   "cell_type": "markdown",
   "metadata": {},
   "source": [
    "### 2. Trained model"
   ]
  },
  {
   "cell_type": "markdown",
   "metadata": {},
   "source": [
    "Train the model (may take a few seconds)"
   ]
  },
  {
   "cell_type": "code",
   "execution_count": 28,
   "metadata": {},
   "outputs": [
    {
     "name": "stdout",
     "output_type": "stream",
     "text": [
      "<!doctype html>\n",
      "<html lang=en>\n",
      "<title>404 Not Found</title>\n",
      "<h1>Not Found</h1>\n",
      "<p>The requested URL was not found on the server. If you entered the URL manually please check your spelling and try again.</p>\n",
      "\n"
     ]
    }
   ],
   "source": [
    "response = requests.get('http://127.0.0.1:5000/train')\n",
    "print(response.text)"
   ]
  },
  {
   "cell_type": "markdown",
   "metadata": {},
   "source": [
    "Use it to make a prediction"
   ]
  },
  {
   "cell_type": "code",
   "execution_count": 58,
   "metadata": {
    "id": "mXZVw7ztuIAZ"
   },
   "outputs": [
    {
     "name": "stdout",
     "output_type": "stream",
     "text": [
      "{'scores': [0.4657153920940945, 0.08369942464280865]}\n"
     ]
    }
   ],
   "source": [
    "url = 'http://127.0.0.1:5000' + '/predict'\n",
    "\n",
    "headers = {\"Content-Type\": \"application/json\"}\n",
    "\n",
    "data = \"\"\"\n",
    "[\n",
    "  {\n",
    "     \"RevolvingUtilizationOfUnsecuredLines\":0.766126609,\n",
    "     \"age\":45.0,\n",
    "     \"NumberOfTime30-59DaysPastDueNotWorse\":2.0,\n",
    "     \"DebtRatio\":0.802982129,\n",
    "     \"MonthlyIncome\":9120.0,\n",
    "     \"NumberOfOpenCreditLinesAndLoans\":13.0,\n",
    "     \"NumberOfTimes90DaysLate\":0.0,\n",
    "     \"NumberRealEstateLoansOrLines\":6.0,\n",
    "     \"NumberOfTime60-89DaysPastDueNotWorse\":0.0,\n",
    "     \"NumberOfDependents\":2.0\n",
    "  },\n",
    "  {\n",
    "     \"DebtRatio\": 0.121876201,\n",
    "     \"MonthlyIncome\": 2600.0,\n",
    "     \"NumberOfDependents\": 1.0,\n",
    "     \"NumberOfOpenCreditLinesAndLoans\": 4,\n",
    "     \"NumberOfTime30-59DaysPastDueNotWorse\": 0,\n",
    "     \"NumberOfTime60-89DaysPastDueNotWorse\": 0,\n",
    "     \"NumberOfTimes90DaysLate\": 0,\n",
    "     \"NumberRealEstateLoansOrLines\": 0,\n",
    "     \"RevolvingUtilizationOfUnsecuredLines\": 0.957151019,\n",
    "     \"age\": 40\n",
    "  }\n",
    "]\n",
    "\"\"\"\n",
    "\n",
    "response = requests.post(url, headers=headers, data=data)\n",
    "if response.ok:\n",
    "    pprint(response.json())\n",
    "else:\n",
    "    print(\"Error, status code: \", response.status_code)"
   ]
  },
  {
   "cell_type": "markdown",
   "metadata": {},
   "source": [
    "Try adjuting some values, e.g. `MonthlyIncome` , `NumberOfTimes90DaysLate` and `NumberOfDependents`"
   ]
  },
  {
   "cell_type": "markdown",
   "metadata": {},
   "source": [
    "### WSGI: Using Gunicorn"
   ]
  },
  {
   "cell_type": "markdown",
   "metadata": {},
   "source": [
    "We've been sending HTTP requests to run Python scripts. Something has to make the 'translation' from HTTP to Python. That's WSGI."
   ]
  },
  {
   "cell_type": "markdown",
   "metadata": {},
   "source": [
    "WSGI is a convention framework for web servers to forward requests to web applications or frameworks written in the Python programming language"
   ]
  },
  {
   "cell_type": "markdown",
   "metadata": {},
   "source": [
    "Here's what's going on under the hood:"
   ]
  },
  {
   "cell_type": "markdown",
   "metadata": {},
   "source": [
    "<img src=\"https://res.cloudinary.com/practicaldev/image/fetch/s--Aozu6gS4--/c_limit%2Cf_auto%2Cfl_progressive%2Cq_auto%2Cw_880/https://dev-to-uploads.s3.amazonaws.com/uploads/articles/56zf2r5ljmujm2jwtz8y.jpg\"/>\n"
   ]
  },
  {
   "cell_type": "markdown",
   "metadata": {},
   "source": [
    "Flask comes with a built-in WSGI server (`werkzeug`).\n",
    "\n",
    "It is meant for development purposes only, and should not be used in production.\n",
    "\n",
    "Cf. message in terminal when launching Flask:\n",
    "```\n",
    "   WARNING: This is a development server. Do not use it in a production deployment.\n",
    "   Use a production WSGI server instead.\n",
    "```\n",
    "\n",
    "\n",
    "**What's the problem with `werkzeug`?**\n",
    "- It will not handle more than one request at a time by default.\n",
    "- If you leave debug mode on and an error pops up, it opens up a shell that allows for arbitrary code to be executed on your server (think `os.system('rm -rf /')`).\n",
    "- The development server doesn't scale well.\n",
    "\n",
    "Source: https://stackoverflow.com/questions/12269537/is-the-server-bundled-with-flask-safe-to-use-in-production\n",
    "\n",
    "\n",
    "\n",
    "**What can we use instead?**\n",
    "\n",
    "Gunicorn or uWSGI.\n",
    "\n"
   ]
  },
  {
   "cell_type": "markdown",
   "metadata": {},
   "source": [
    "*Note: same goes for the **web server**: Flask comes with a native development solution. For production purposes, an **Nginx** web server is more appropriate as we will see in the next lectures.*"
   ]
  },
  {
   "cell_type": "markdown",
   "metadata": {},
   "source": [
    "### Let's get it running"
   ]
  },
  {
   "cell_type": "markdown",
   "metadata": {},
   "source": [
    "From your terminal, still in the `basic_flask` directory, run:\n",
    "``` bash\n",
    "gunicorn --workers 9 --bind 0.0.0.0:5000 app.app:app\n",
    "```"
   ]
  },
  {
   "cell_type": "markdown",
   "metadata": {},
   "source": [
    "Where `app.app:app` is of the pattern `$(MODULE_NAME):$(VARIABLE_NAME)`. The module name can be a full dotted path. The variable name refers to a WSGI callable that should be found in the specified module."
   ]
  },
  {
   "cell_type": "markdown",
   "metadata": {},
   "source": [
    "Re-run our previous call"
   ]
  },
  {
   "cell_type": "code",
   "execution_count": 60,
   "metadata": {},
   "outputs": [
    {
     "data": {
      "text/plain": [
       "'{\"scores\":[0.4657153920940945,0.08369942464280865]}\\n'"
      ]
     },
     "execution_count": 60,
     "metadata": {},
     "output_type": "execute_result"
    }
   ],
   "source": [
    "response = requests.post(url, headers=headers, data=data)\n",
    "response.text"
   ]
  },
  {
   "cell_type": "markdown",
   "metadata": {},
   "source": [
    "It still works the same, except this will scale much better once we start serving 10, 100, 1000 calls per second."
   ]
  }
 ],
 "metadata": {
  "colab": {
   "name": "Session4.ipynb",
   "provenance": [],
   "toc_visible": true
  },
  "kernelspec": {
   "display_name": "Python 3 (ipykernel)",
   "language": "python",
   "name": "python3"
  },
  "language_info": {
   "codemirror_mode": {
    "name": "ipython",
    "version": 3
   },
   "file_extension": ".py",
   "mimetype": "text/x-python",
   "name": "python",
   "nbconvert_exporter": "python",
   "pygments_lexer": "ipython3",
   "version": "3.9.12"
  }
 },
 "nbformat": 4,
 "nbformat_minor": 1
}
